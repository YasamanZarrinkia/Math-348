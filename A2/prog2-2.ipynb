{
 "cells": [
  {
   "cell_type": "markdown",
   "metadata": {
    "collapsed": false
   },
   "source": [
    "<h1>Assignment 2: programming</h1>\n",
    "\n",
    "This is the programming part of Assignment 2. When you're done, select \"Restart and run all\" in the Kernel menu, and make sure your code behaves as you expect. There is a theoretical part of the assignment also, found in the Handouts folder on CoCalc, which must be handed in at the <i>start</i> of class on Friday, September 20.\n",
    "\n",
    "First, run the following code to import packages that we'll need."
   ]
  },
  {
   "cell_type": "code",
   "execution_count": 1,
   "metadata": {
    "collapsed": false
   },
   "outputs": [
   ],
   "source": [
    "import numpy as np\n",
    "import matplotlib.pyplot as plt\n",
    "plt.rcParams.update({'font.size': 14})"
   ]
  },
  {
   "cell_type": "markdown",
   "metadata": {
    "collapsed": false
   },
   "source": [
    "<h2>1. Error estimate polynomial</h2>\n",
    "\n",
    "Let $p(x)$ interpolate $f(x)$ at $x_0,x_1,\\ldots,x_k$, where all $x_i\\in[-1,1]$. Assume that $f(x)$ has at least $k+1$ continuous derivatives. We know from the interpolation error theorem that, at each $x\\in[-1,1]$, the interpolation error $|f(x)-p(x)|$ is bounded above by\n",
    "$$ |f(x)-p(x)| \\le \\frac{1}{(k+1)!}\\max_{c\\in[-1,1]}|f^{(k+1)}(c)||w(x)|,\\qquad \\text{ where } \\quad w(x)=\\prod\\limits_{i=0}^k(x-x_i). $$\n",
    "The only part of this upper bound that we can affect is the $w(x)$ term, which depends on the chosen interpolation points $x_i$.\n",
    "\n",
    "<h4>a.</h4>\n",
    "Complete the following function, which computes $w(x)$ for specified values of $x$ and $x_i$. Notice that the definition of $w(x)$ does not include absolute values. Write the function in a vectorized way, so that you can input a NumPy array of $x$ values and get back a corresponding array of $w(x)$ values."
   ]
  },
  {
   "cell_type": "code",
   "execution_count": 2,
   "metadata": {
    "collapsed": false
   },
   "outputs": [
   ],
   "source": [
    "def w(x,xi):\n",
    "    # INPUTS\n",
    "    # x is a numpy array of values at which to evaluate w\n",
    "    # xi is a numpy array of the interpolation points\n",
    "    # OUTPUT: numpy array of w values corresponing to x\n",
    "    w_x = np.ones(np.size(x))\n",
    "    n = len(xi)\n",
    "    for i in range (n):\n",
    "        w_x = w_x * (x-xi[i])\n",
    "    return w_x\n",
    "    # your code here"
   ]
  },
  {
   "cell_type": "markdown",
   "metadata": {
    "collapsed": false
   },
   "source": [
    "The following code should plot $w(x)$ for 7 and 10 uniformly spaced interplation points. Try some other numbers of uniformly spaced points. As $n$ increases, you should find that $\\max_{x\\in[-1,1]}|w(x)|$ does decrease, but also that the oscillations of w(x) over $[-1,1]$ become more unequal."
   ]
  },
  {
   "cell_type": "code",
   "execution_count": 3,
   "metadata": {
    "collapsed": false
   },
   "outputs": [
    {
     "name": "stdout",
     "output_type": "stream",
     "text": [
      "xi: 7 uniformly spaced points\n"
     ]
    },
    {
     "data": {
      "image/png": "[encoded data removed]",
      "text/plain": "<Figure size 432x288 with 1 Axes>"
     },
     "metadata": {
      "image/png": {
       "height": 270,
       "width": 417
      }
     },
     "output_type": "execute_result"
    },
    {
     "name": "stdout",
     "output_type": "stream",
     "text": [
      "xi: 10 uniformly spaced points\n"
     ]
    },
    {
     "data": {
      "image/png": "[encoded data removed]",
      "text/plain": "<Figure size 432x288 with 1 Axes>"
     },
     "metadata": {
      "image/png": {
       "height": 274,
       "width": 435
      }
     },
     "output_type": "execute_result"
    }
   ],
   "source": [
    "for n in [7,10]:\n",
    "    print('xi:',n,'uniformly spaced points')\n",
    "    plt.figure()\n",
    "    xi = np.linspace(-1,1,n)\n",
    "    x = np.linspace(-1,1,200)\n",
    "    y = w(x,xi)\n",
    "    plt.plot(x,y)\n",
    "    plt.scatter(xi,np.zeros(np.size(xi)))\n",
    "    plt.xlabel('x')\n",
    "    plt.ylabel('w(x)')\n",
    "    plt.show()"
   ]
  },
  {
   "cell_type": "markdown",
   "metadata": {
    "collapsed": false
   },
   "source": [
    "<h4>b.</h4>\n",
    "Complete the following function, which returns a NumPy array of Chebyshev nodes of the 1st kind $(x_1,\\ldots,x_n)$ for a specified value of $n$. Note that here the index of $x_i$ starts at 1 rather than 0, to be consistent with the usual notation for the nodes of the 1st kind. So there are $n$ interpolation points in total, not $n+1$. It's a good idea to test your function for some small $n$ values where you know the answer."
   ]
  },
  {
   "cell_type": "code",
   "execution_count": 4,
   "metadata": {
    "collapsed": false
   },
   "outputs": [
   ],
   "source": [
    "def cheb_nodes1(n):\n",
    "    # INPUT: number of nodes to return\n",
    "    # OUTPUT: numpy array containing the Chebyshev nodes [x1,...,xn]\n",
    "    x = np.zeros(n)\n",
    "    for i in range (1,n+1):\n",
    "        x[i-1] = np.cos(((2*i-1)*np.pi)/(2*n))\n",
    "    return x\n",
    "    # your code here"
   ]
  },
  {
   "cell_type": "markdown",
   "metadata": {
    "collapsed": false
   },
   "source": [
    "The following code should plot $w(x)$ for 4, 9, and 20 interpolation points that are Chebyshev nodes of the 1st kind. Try some other numbers of uniformly spaced points. The correct $w(x)$ will equioscillate over the interval $[-1,1]$."
   ]
  },
  {
   "cell_type": "code",
   "execution_count": 5,
   "metadata": {
    "collapsed": false
   },
   "outputs": [
    {
     "name": "stdout",
     "output_type": "stream",
     "text": [
      "xi: 4 Chebyshev nodes of the 1st kind\n"
     ]
    },
    {
     "data": {
      "image/png": "[encoded data removed]",
      "text/plain": "<Figure size 432x288 with 1 Axes>"
     },
     "metadata": {
      "image/png": {
       "height": 270,
       "width": 417
      }
     },
     "output_type": "execute_result"
    },
    {
     "name": "stdout",
     "output_type": "stream",
     "text": [
      "xi: 9 Chebyshev nodes of the 1st kind\n"
     ]
    },
    {
     "data": {
      "image/png": "[encoded data removed]",
      "text/plain": "<Figure size 432x288 with 1 Axes>"
     },
     "metadata": {
      "image/png": {
       "height": 270,
       "width": 426
      }
     },
     "output_type": "execute_result"
    },
    {
     "name": "stdout",
     "output_type": "stream",
     "text": [
      "xi: 20 Chebyshev nodes of the 1st kind\n"
     ]
    },
    {
     "data": {
      "image/png": "[encoded data removed]",
      "text/plain": "<Figure size 432x288 with 1 Axes>"
     },
     "metadata": {
      "image/png": {
       "height": 271,
       "width": 452
      }
     },
     "output_type": "execute_result"
    }
   ],
   "source": [
    "for n in [4,9,20]:\n",
    "    print('xi:',n,'Chebyshev nodes of the 1st kind')\n",
    "    plt.figure()\n",
    "    xi = cheb_nodes1(n)\n",
    "    x = np.linspace(-1,1,400)\n",
    "    y = w(x,xi)\n",
    "    plt.plot(x,y)\n",
    "    plt.scatter(xi,np.zeros(np.size(xi)))\n",
    "    plt.xlabel('x')\n",
    "    plt.ylabel('w(x)')\n",
    "    plt.show()"
   ]
  },
  {
   "cell_type": "markdown",
   "metadata": {
    "collapsed": false
   },
   "source": [
    "<h4>c.</h4>\n",
    "Complete the following function, whose input is a NumPy array of the interpolation points $x_i$, and whose output is the approximate value of $\\max\\limits_{x\\in[-1,1]}|w(x)|$. Estimate this maximum by computing $|w(x)|$ at 2000 uniformly spaced points on $[-1,1]$."
   ]
  },
  {
   "cell_type": "code",
   "execution_count": 6,
   "metadata": {
    "collapsed": false
   },
   "outputs": [
   ],
   "source": [
    "def w_max(xi):\n",
    "    # INPUT: xi is a numpy array of interpolation points\n",
    "    # OUTPUT: a number approximating the maximum of |w(x)| over [-1,1]\n",
    "    x = np.linspace(-1,1,2000)\n",
    "    y = np.abs(w(x,xi))\n",
    "    out = np.nanmax(y)\n",
    "    return out\n",
    "    # your code here"
   ]
  },
  {
   "cell_type": "markdown",
   "metadata": {
    "collapsed": false
   },
   "source": [
    "You can test your <tt>w_max</tt> function using the case where the $x_i$ are Chebyshev nodes of the 1st kind because in this case we know the exact value of $\\max\\limits_{x\\in[-1,1]}|w(x)|$."
   ]
  },
  {
   "cell_type": "markdown",
   "metadata": {
    "collapsed": false
   },
   "source": [
    "<h4>d.</h4>\n",
    "Using your functions from parts 1a-c, compute $\\max\\limits_{x\\in[-1,1]}|w(x)|$ for $n$ uniformly spaced nodes $x_i$ on $[-1,1]$, where $n=5,10,15,\\ldots,40$. Do the same for Chebyshev nodes of the 1st kind. Use the <tt>plt.scatter</tt> command to plot $\\max\\limits_{x\\in[-1,1]}|w(x)|$ versus $n$. The code provided below should put the points for uniform nodes and Chebyshev nodes on the same plot, with the vertical axis scale logarithmic and the horizontal axis scale linear. (Note that I put the <tt>plt.yscale('log')</tt> command <i>before</i> the plotting commands, which can help the automatic selection of axis ranges to work properly. If the axis ranges are still not good, you can always set them manually.)"
   ]
  },
  {
   "cell_type": "code",
   "execution_count": 7,
   "metadata": {
    "collapsed": false
   },
   "outputs": [
    {
     "data": {
      "image/png": "[encoded data removed]",
      "text/plain": "<Figure size 432x288 with 1 Axes>"
     },
     "metadata": {
      "image/png": {
       "height": 270,
       "width": 413
      }
     },
     "output_type": "execute_result"
    }
   ],
   "source": [
    "n = np.array([5,10,15,20,25,30,35,40])\n",
    "wmax_unif = np.empty(len(n))\n",
    "wmax_cheb1 = np.empty(len(n))\n",
    "\n",
    "# Write code below so that:\n",
    "#     wmax_unif[i] is the w_max value for n[i] uniformly spaced points\n",
    "#     wmax_cheb1[i] is the w_max value for n[i] Chebyshev nodes of the 1st kind\n",
    "\n",
    "for i in range(len(n)):\n",
    "    wmax_cheb1[i] = w_max(cheb_nodes1(n[i]))\n",
    "    wmax_unif[i] = w_max(np.linspace(-1,1,n[i]))\n",
    "\n",
    "# your code here\n",
    "\n",
    "# The code below should plot your results on a linear-log plot\n",
    "plt.figure()\n",
    "plt.yscale('log')\n",
    "plt.scatter(n,wmax_unif,label='Uniform')\n",
    "plt.scatter(n,wmax_cheb1,label='Chebyshev')\n",
    "plt.xlabel('n')\n",
    "plt.ylabel('max|w(x)|')\n",
    "plt.legend()\n",
    "plt.show()"
   ]
  },
  {
   "cell_type": "markdown",
   "metadata": {
    "collapsed": false
   },
   "source": [
    "<h2>2. Interpolation error with uniformly spaced points</h2>\n",
    "\n",
    "If you want, you can use the following function to perform polynomial interpolation. Or you can replace it with your own function from Assignment 1."
   ]
  },
  {
   "cell_type": "code",
   "execution_count": 8,
   "metadata": {
    "collapsed": false
   },
   "outputs": [
   ],
   "source": [
    "def lagrange_interp(x,xi,yi):\n",
    "    P = np.zeros(np.size(x))\n",
    "    for i in range(0 , len(xi) ):\n",
    "        L = 1\n",
    "        for j in range(0 , len(xi) ):\n",
    "            if i != j: \n",
    "                L *= (x-xi[j]) / (xi[i]-xi[j])\n",
    "        P += yi[i] * L\n",
    "    return P"
   ]
  },
  {
   "cell_type": "markdown",
   "metadata": {
    "collapsed": false
   },
   "source": [
    "<h4>a.</h4>\n",
    "Let $f(x)=\\sin(4\\pi x^2)$. Let $p$ interpolate $f$ at $n$ <b>uniform</b> points on $[-1,1]$. The following code should plot $f(x)$ and $p(x)$, along with the interpolation error $f(x)-p(x)$, making separate plots for $n=10,20,30$"
   ]
  },
  {
   "cell_type": "code",
   "execution_count": 9,
   "metadata": {
    "collapsed": false
   },
   "outputs": [
    {
     "name": "stdout",
     "output_type": "stream",
     "text": [
      "xi: 10 uniformly spaced points\n"
     ]
    },
    {
     "data": {
      "image/png": "[encoded data removed]",
      "text/plain": "<Figure size 864x288 with 2 Axes>"
     },
     "metadata": {
      "image/png": {
       "height": 276,
       "width": 725
      }
     },
     "output_type": "execute_result"
    },
    {
     "name": "stdout",
     "output_type": "stream",
     "text": [
      "xi: 20 uniformly spaced points\n"
     ]
    },
    {
     "data": {
      "image/png": "[encoded data removed]",
      "text/plain": "<Figure size 864x288 with 2 Axes>"
     },
     "metadata": {
      "image/png": {
       "height": 276,
       "width": 725
      }
     },
     "output_type": "execute_result"
    },
    {
     "name": "stdout",
     "output_type": "stream",
     "text": [
      "xi: 30 uniformly spaced points\n"
     ]
    },
    {
     "data": {
      "image/png": "[encoded data removed]",
      "text/plain": "<Figure size 864x288 with 2 Axes>"
     },
     "metadata": {
      "image/png": {
       "height": 276,
       "width": 725
      }
     },
     "output_type": "execute_result"
    }
   ],
   "source": [
    "def f(x): return np.sin(4*np.pi*x**2)\n",
    "\n",
    "x = np.linspace(-1.2,1.2,300)\n",
    "for n in [10,20,30]:\n",
    "    print('xi:',n,'uniformly spaced points')\n",
    "    plt.figure(figsize=(12, 4))\n",
    "    plt.subplot(1,2,1)\n",
    "    plt.plot(x,f(x),label='f')\n",
    "    xi = np.linspace(-1,1,n)\n",
    "    plt.plot(x,lagrange_interp(x,xi,f(xi)),label='p')\n",
    "    plt.scatter(xi,f(xi))\n",
    "    plt.xlabel('x')\n",
    "    plt.axis([-1.2,1.2,-1.5,1.5])\n",
    "    plt.legend()\n",
    "    \n",
    "    plt.subplot(1,2,2)\n",
    "    xerr = np.linspace(-1,1,400)\n",
    "    plt.plot(xerr,f(xerr)-lagrange_interp(xerr,xi,f(xi)),label='f(x)-p(x)')\n",
    "    plt.scatter(xi,np.zeros(np.size(xi)))\n",
    "    plt.xlabel('x')\n",
    "    plt.legend()\n",
    "    plt.show()"
   ]
  },
  {
   "cell_type": "markdown",
   "metadata": {
    "collapsed": false
   },
   "source": [
    "Let's study how the worst-case interpolation error,\n",
    "$$\\Vert f-p\\Vert_\\infty:=\\max\\limits_{x\\in[-1,1]}|f(x)-p(x)|,$$ depends on $n$ in the example. To do so, let's approximate $\\Vert f-p\\Vert_\\infty$ by computing $|f(x)-p(x)|$ at 2000 uniformly spaced points on $[-1,1]$. In particular, compute $\\Vert f-p\\Vert_\\infty$ for the $p$ that interpolates $f$ at $n$ uniform points, for $n=5,10,15,\\ldots,40$. Then, plot a <tt>scatter</tt> of $\\Vert f-p\\Vert_\\infty$ versus $n$. Make the vertical $\\Vert f-p\\Vert_\\infty$ axis logarithmic and the $n$ axis linear. (If necessary, set the range of the axes manually to show all the data.)"
   ]
  },
  {
   "cell_type": "code",
   "execution_count": 10,
   "metadata": {
    "collapsed": false
   },
   "outputs": [
    {
     "data": {
      "image/png": "[encoded data removed]",
      "text/plain": "<Figure size 432x288 with 1 Axes>"
     },
     "metadata": {
      "image/png": {
       "height": 274,
       "width": 407
      }
     },
     "output_type": "execute_result"
    }
   ],
   "source": [
    "#def f(x): return np.sin(4*np.pi*x**2)\n",
    "\n",
    "n = np.array([5,10,15,20,25,30,35,40])\n",
    "x = np.linspace(-1,1,2000)\n",
    "\n",
    "xn = np.zeros(len(n))\n",
    "\n",
    "for i in range(len(n)):\n",
    "    xi = np.linspace(-1,1,n[i])\n",
    "    xn[i] = np.nanmax(np.abs(f(x)-lagrange_interp(x,xi,f(xi))))\n",
    "    \n",
    "plt.figure()\n",
    "plt.yscale('log')\n",
    "plt.scatter(n,xn)\n",
    "plt.xlabel('n')\n",
    "plt.ylabel('max|f-p|')\n",
    "plt.show()\n",
    "\n",
    "# your code here"
   ]
  },
  {
   "cell_type": "markdown",
   "metadata": {
    "collapsed": false
   },
   "source": [
    "<h4>b.</h4>\n",
    "Let $f(x)=\\sin(4\\pi x^2)$, as in part a. Let $p$ interpolate $f$ at $n$ <b>Chebyshev</b> nodes of the 1st kind. The following code should plot $f(x)$ and $p(x)$, along with ther interpolation error $f(x)-p(x)$, making separate plots for $n=10,20,30$. You'll notice that the error doesn't exactly equioscillate since $p$ is not exactly the best approximation of this particular $f$, but the error comes much closer to equioscillating than it does when the $x_i$ are uniform."
   ]
  },
  {
   "cell_type": "code",
   "execution_count": 11,
   "metadata": {
    "collapsed": false
   },
   "outputs": [
    {
     "name": "stdout",
     "output_type": "stream",
     "text": [
      "xi: 10 Chebyshev nodes of the 1st kind\n"
     ]
    },
    {
     "data": {
      "image/png": "[encoded data removed]",
      "text/plain": "<Figure size 864x288 with 2 Axes>"
     },
     "metadata": {
      "image/png": {
       "height": 276,
       "width": 725
      }
     },
     "output_type": "execute_result"
    },
    {
     "name": "stdout",
     "output_type": "stream",
     "text": [
      "xi: 20 Chebyshev nodes of the 1st kind\n"
     ]
    },
    {
     "data": {
      "image/png": "[encoded data removed]",
      "text/plain": "<Figure size 864x288 with 2 Axes>"
     },
     "metadata": {
      "image/png": {
       "height": 276,
       "width": 725
      }
     },
     "output_type": "execute_result"
    },
    {
     "name": "stdout",
     "output_type": "stream",
     "text": [
      "xi: 30 Chebyshev nodes of the 1st kind\n"
     ]
    },
    {
     "data": {
      "image/png": "[encoded data removed]",
      "text/plain": "<Figure size 864x288 with 2 Axes>"
     },
     "metadata": {
      "image/png": {
       "height": 276,
       "width": 725
      }
     },
     "output_type": "execute_result"
    }
   ],
   "source": [
    "def f(x): return np.sin(4*np.pi*x**2)\n",
    "\n",
    "x = np.linspace(-1.2,1.2,300)\n",
    "for n in [10,20,30]:\n",
    "    print('xi:',n,'Chebyshev nodes of the 1st kind')\n",
    "    plt.figure(figsize=(12, 4))\n",
    "    plt.subplot(1,2,1)\n",
    "    plt.plot(x,f(x),label='f')\n",
    "    xi = cheb_nodes1(int(n))\n",
    "    plt.plot(x,lagrange_interp(x,xi,f(xi)),label='p')\n",
    "    plt.scatter(xi,f(xi))\n",
    "    plt.xlabel('x')\n",
    "    plt.axis([-1.2,1.2,-1.5,1.5])\n",
    "    plt.legend()\n",
    "    \n",
    "    plt.subplot(1,2,2)\n",
    "    xerr = np.linspace(-1,1,400)\n",
    "    plt.plot(xerr,f(xerr)-lagrange_interp(xerr,xi,f(xi)),label='f(x)-p(x)')\n",
    "    plt.scatter(xi,np.zeros(np.size(xi)))\n",
    "    plt.xlabel('x')\n",
    "    plt.legend()\n",
    "    plt.show()"
   ]
  },
  {
   "cell_type": "markdown",
   "metadata": {
    "collapsed": false
   },
   "source": [
    "Repeat part 2a for the case of Chebyshev nodes. That is, plot $\\Vert f-p\\Vert_\\infty$ versus $n$ for $n=5,10,\\ldots,40$."
   ]
  },
  {
   "cell_type": "code",
   "execution_count": 12,
   "metadata": {
    "collapsed": false
   },
   "outputs": [
    {
     "data": {
      "image/png": "[encoded data removed]",
      "text/plain": "<Figure size 432x288 with 1 Axes>"
     },
     "metadata": {
      "image/png": {
       "height": 270,
       "width": 413
      }
     },
     "output_type": "execute_result"
    }
   ],
   "source": [
    "# your code here\n",
    "n = np.array([5,10,15,20,25,30,35,40])\n",
    "x = np.linspace(-1,1,2000)\n",
    "\n",
    "xn = np.zeros(len(n))\n",
    "\n",
    "for i in range(len(n)):\n",
    "    xi = cheb_nodes1(n[i])\n",
    "    xn[i] = np.nanmax(np.abs(f(x)-lagrange_interp(x,xi,f(xi))))\n",
    "    \n",
    "plt.figure()\n",
    "plt.yscale('log')\n",
    "plt.scatter(n,xn)\n",
    "plt.xlabel('n')\n",
    "plt.ylabel('max|f-p|')\n",
    "plt.show()\n"
   ]
  }
 ],
 "metadata": {
  "kernelspec": {
   "display_name": "Python 3 (system-wide)",
   "language": "python",
   "metadata": {
    "cocalc": {
     "description": "Python 3 programming language",
     "priority": 100,
     "url": "https://www.python.org/"
    }
   },
   "name": "python3"
  },
  "language_info": {
   "codemirror_mode": {
    "name": "ipython",
    "version": 3
   },
   "file_extension": ".py",
   "mimetype": "text/x-python",
   "name": "python",
   "nbconvert_exporter": "python",
   "pygments_lexer": "ipython3",
   "version": "3.6.8"
  }
 },
 "nbformat": 4,
 "nbformat_minor": 0
}