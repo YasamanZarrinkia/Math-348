{
 "cells": [
  {
   "cell_type": "markdown",
   "metadata": {
    "collapsed": false
   },
   "source": [
    "<h1>Assignment 5: programming</h1>\n",
    "\n",
    "This is the programming part of Assignment 5. When you're done, select \"Restart and run all\" in the Kernel menu, and make sure your code behaves as you expect. There is a theoretical part of the assignment also, found in the Handouts folder on CoCalc, which must be handed in at the <i>start</i> of class on Wednesday, October 30.\n",
    "\n",
    "First, run the following code to import packages that we'll need."
   ]
  },
  {
   "cell_type": "code",
   "execution_count": 1,
   "metadata": {
    "collapsed": false
   },
   "outputs": [
   ],
   "source": [
    "import numpy as np\n",
    "import matplotlib.pyplot as plt\n",
    "plt.rcParams.update({'font.size': 20})"
   ]
  },
  {
   "cell_type": "markdown",
   "metadata": {
    "collapsed": false
   },
   "source": [
    "<h2>1. Bisection method</h2>\n",
    "\n",
    "<h4>a.</h4>\n",
    "Complete the function below to implement the bisection method."
   ]
  },
  {
   "cell_type": "code",
   "execution_count": 2,
   "metadata": {
    "collapsed": false
   },
   "outputs": [
   ],
   "source": [
    "def bisect(f,a,b,tol,max_iter):\n",
    "    # f is the name of a function, defined elsewhere, whose root we want to find\n",
    "    # [a,b] is the initial interval. return an error message unless f(a)*f(b)<0\n",
    "    # if c=(b-a)/2 < tol, or if the number of iterations reaches max_iter, do the following\n",
    "    #   1. print the forward error bound\n",
    "    #   2. return c\n",
    "    if (f(a)==0):\n",
    "        return a\n",
    "    if (f(b)==0):\n",
    "        return b\n",
    "    if (f(a)*f(b)>0):\n",
    "        return \"ERROR: f(a) and f(b) have the same sign\"\n",
    "    for iter in range(0,max_iter):\n",
    "        if ((b-a)/2 < tol):\n",
    "            break\n",
    "        c = (a+b)/2\n",
    "        if(f(c)==0):\n",
    "            return c\n",
    "        if(f(a)*f(c)<0):\n",
    "            b = c\n",
    "        else:\n",
    "            a = c\n",
    "    print(\"The final interval [%.13f,%.13f] contains a root\" %(a ,b))\n",
    "    return (a+b)/2\n",
    "    # your code here"
   ]
  },
  {
   "cell_type": "markdown",
   "metadata": {
    "collapsed": false
   },
   "source": [
    "To test your function, make sure the following command finds the correct root of $\\cos x$ for $x\\in[1,2]$."
   ]
  },
  {
   "cell_type": "code",
   "execution_count": 3,
   "metadata": {
    "collapsed": false
   },
   "outputs": [
    {
     "name": "stdout",
     "output_type": "stream",
     "text": [
      "The final interval [1.5707963267942,1.5707963267960] contains a root\n"
     ]
    },
    {
     "data": {
      "text/plain": [
       "1.5707963267950618"
      ]
     },
     "execution_count": 3,
     "metadata": {
     },
     "output_type": "execute_result"
    }
   ],
   "source": [
    "bisect(np.cos,1,2,1e-12,100)"
   ]
  },
  {
   "cell_type": "markdown",
   "metadata": {
    "collapsed": false
   },
   "source": [
    "<h4>b.</h4> Consider the following matrix, which is a function of $x$.\n",
    "\\[ M(x)=\\begin{bmatrix}x&-120&240&-140\\\\-120&1200&-2700&1680\\\\240&-2700&6480&-4200\\\\-140&1680&-4200&2800\\end{bmatrix} \\]\n",
    "The following function <tt>h(x)</tt> returns the minimum eigenvalue of $M(x)$."
   ]
  },
  {
   "cell_type": "code",
   "execution_count": 4,
   "metadata": {
    "collapsed": false
   },
   "outputs": [
   ],
   "source": [
    "from scipy.linalg import invhilbert\n",
    "def h(x): \n",
    "    M = invhilbert(4)\n",
    "    M[0][0] = x\n",
    "    return np.min(np.linalg.eig(M)[0])"
   ]
  },
  {
   "cell_type": "markdown",
   "metadata": {
    "collapsed": false
   },
   "source": [
    "Use your <tt>bisect</tt> function to find the value of $x$ such that the minimum eigenvalue of $M(x)$ is equal to 3. Make sure the forward error of your final result is no larger than 1e-8. "
   ]
  },
  {
   "cell_type": "code",
   "execution_count": 5,
   "metadata": {
    "collapsed": false
   },
   "outputs": [
   ],
   "source": [
    "def g(x):\n",
    "    return h(x)-3"
   ]
  },
  {
   "cell_type": "markdown",
   "metadata": {
    "collapsed": false
   },
   "source": [
    "To record your answer, assign the following variable."
   ]
  },
  {
   "cell_type": "code",
   "execution_count": 6,
   "metadata": {
    "collapsed": false
   },
   "outputs": [
    {
     "name": "stdout",
     "output_type": "stream",
     "text": [
      "The final interval [22.5501999557309,22.5501999739208] contains a root\n"
     ]
    }
   ],
   "source": [
    "xM = bisect(g,-10000,10000,1e-8,1000)"
   ]
  },
  {
   "cell_type": "markdown",
   "metadata": {
    "collapsed": false
   },
   "source": [
    "<h2>2. Fixed-point iteration</h2>\n",
    "\n",
    "<h4>a.</h4>\n",
    "To find the solution to $x=\\cos x$, implement fixed point iteration with $g(x)=\\cos x$. Use the initial guess $x_0=0.5$, and stop when the backward error is less than 1e-8. On each step, print the step number and the current value of $x_n$."
   ]
  },
  {
   "cell_type": "code",
   "execution_count": 7,
   "metadata": {
    "collapsed": false
   },
   "outputs": [
    {
     "name": "stdout",
     "output_type": "stream",
     "text": [
      "Step: 0 \t xn = 0.500000000\n",
      "Step: 1 \t xn = 0.877582562\n",
      "Step: 2 \t xn = 0.639012494\n",
      "Step: 3 \t xn = 0.802685101\n",
      "Step: 4 \t xn = 0.694778027\n",
      "Step: 5 \t xn = 0.768195831\n",
      "Step: 6 \t xn = 0.719165446\n",
      "Step: 7 \t xn = 0.752355759\n",
      "Step: 8 \t xn = 0.730081063\n",
      "Step: 9 \t xn = 0.745120341\n",
      "Step: 10 \t xn = 0.735006309\n",
      "Step: 11 \t xn = 0.741826523\n",
      "Step: 12 \t xn = 0.737235725\n",
      "Step: 13 \t xn = 0.740329652\n",
      "Step: 14 \t xn = 0.738246238\n",
      "Step: 15 \t xn = 0.739649963\n",
      "Step: 16 \t xn = 0.738704539\n",
      "Step: 17 \t xn = 0.739341452\n",
      "Step: 18 \t xn = 0.738912449\n",
      "Step: 19 \t xn = 0.739201444\n",
      "Step: 20 \t xn = 0.739006780\n",
      "Step: 21 \t xn = 0.739137911\n",
      "Step: 22 \t xn = 0.739049581\n",
      "Step: 23 \t xn = 0.739109081\n",
      "Step: 24 \t xn = 0.739069001\n",
      "Step: 25 \t xn = 0.739096000\n",
      "Step: 26 \t xn = 0.739077813\n",
      "Step: 27 \t xn = 0.739090064\n",
      "Step: 28 \t xn = 0.739081812\n",
      "Step: 29 \t xn = 0.739087371\n",
      "Step: 30 \t xn = 0.739083626\n",
      "Step: 31 \t xn = 0.739086148\n",
      "Step: 32 \t xn = 0.739084449\n",
      "Step: 33 \t xn = 0.739085594\n",
      "Step: 34 \t xn = 0.739084823\n",
      "Step: 35 \t xn = 0.739085342\n",
      "Step: 36 \t xn = 0.739084992\n",
      "Step: 37 \t xn = 0.739085228\n",
      "Step: 38 \t xn = 0.739085069\n",
      "Step: 39 \t xn = 0.739085176\n",
      "Step: 40 \t xn = 0.739085104\n",
      "Step: 41 \t xn = 0.739085153\n",
      "Step: 42 \t xn = 0.739085120\n",
      "Step: 43 \t xn = 0.739085142\n",
      "Step: 44 \t xn = 0.739085137\n"
     ]
    }
   ],
   "source": [
    "def g(x):\n",
    "    return np.cos(x)\n",
    "x0 = 0.5\n",
    "x1 = g(x0)\n",
    "cnt = 0\n",
    "while (np.abs(x1 - x0) >= 1e-8):\n",
    "    print(\"Step: %d \\t xn = %.9f\"%(cnt,x0))\n",
    "    x0 = x1\n",
    "    x1 = g(x0)\n",
    "    cnt += 1\n",
    "print(\"Step: %d \\t xn = %.9f\"%(cnt,x1))\n",
    "\n"
   ]
  },
  {
   "cell_type": "markdown",
   "metadata": {
    "collapsed": false
   },
   "source": [
    "<h4>b.</h4>\n",
    "Starting from $x_0=0.5$, repeat the first 15 steps of part a. Taking the final estimate from part a as the exact answer, compute and save $e_n$ at each step. Plot $e_n$ versus $n$ for $n=0,1,\\ldots,15$, choosing linear or logarithmic axis scales as decided in problem 2 of the theory assignment."
   ]
  },
  {
   "cell_type": "code",
   "execution_count": 8,
   "metadata": {
    "collapsed": false
   },
   "outputs": [
    {
     "name": "stdout",
     "output_type": "stream",
     "text": [
      "0.7390851372357778\n"
     ]
    },
    {
     "data": {
      "text/plain": [
       "Text(0, 0.5, 'Error')"
      ]
     },
     "execution_count": 8,
     "metadata": {
     },
     "output_type": "execute_result"
    },
    {
     "data": {
      "image/png": "[encoded data removed]",
      "text/plain": [
       "<Figure size 432x288 with 1 Axes>"
      ]
     },
     "execution_count": 8,
     "metadata": {
      "image/png": {
       "height": 282,
       "width": 426
      }
     },
     "output_type": "execute_result"
    }
   ],
   "source": [
    "print(x1)\n",
    "x0 = 0.5\n",
    "y = np.zeros(16)\n",
    "x = np.zeros(16)\n",
    "for i in range (len(x)):\n",
    "    y[i] = np.abs(x1-x0)\n",
    "    x[i] = i\n",
    "    x0 = g(x0)\n",
    "    \n",
    "plt.figure()\n",
    "#plt.xscale('log')\n",
    "plt.yscale('log')\n",
    "plt.plot(x,y)\n",
    "plt.xlabel('n')\n",
    "plt.ylabel('Error')"
   ]
  },
  {
   "cell_type": "markdown",
   "metadata": {
    "collapsed": false
   },
   "source": [
    "<h2>3. Newton's method</h2>\n",
    "\n",
    "On part 3c of the theory assignment you derived the iterated function $g(x)$ that amounts to Newton's method for the function $f(x)=x/2-\\exp\\left[ \\sin(\\pi x/12)-1/2 \\right]$. Implement Newton's method for this $f$ using $x_0=0$ as the initial guess. Print out $x_1,x_2,\\ldots,x_{6}$."
   ]
  },
  {
   "cell_type": "code",
   "execution_count": 9,
   "metadata": {
    "collapsed": false
   },
   "outputs": [
    {
     "name": "stdout",
     "output_type": "stream",
     "text": [
      "Step: 0 \t xn=0.000000000000\n",
      "Step: 1 \t xn=1.777584226346\n",
      "Step: 2 \t xn=1.998132747626\n",
      "Step: 3 \t xn=1.999999890489\n",
      "Step: 4 \t xn=2.000000000000\n",
      "Step: 5 \t xn=2.000000000000\n",
      "Step: 6 \t xn=2.000000000000\n"
     ]
    }
   ],
   "source": [
    "def g(x):\n",
    "    return x - (x/2 - np.exp(np.sin(np.pi*x/12) - 1/2))/(1/2 - (1/12)*np.pi*np.cos(np.pi*x/12)*np.exp(np.sin(np.pi*x/12) - 1/2))\n",
    "xn=0\n",
    "for i in range(0,7):\n",
    "    print(\"Step: %d \\t xn=%.12f\"%(i,xn))\n",
    "    xn = g(xn)"
   ]
  },
  {
   "cell_type": "markdown",
   "metadata": {
    "collapsed": false
   },
   "source": [
    "What is the smallest value of $n$ such that the forward error magnitude $|2-x_n|$ is less than $10^{-10}$? Record your answer by assigning the following variable."
   ]
  },
  {
   "cell_type": "code",
   "execution_count": 10,
   "metadata": {
    "collapsed": false
   },
   "outputs": [
   ],
   "source": [
    "nSmallest = 4"
   ]
  }
 ],
 "metadata": {
  "kernelspec": {
   "display_name": "Python 3 (system-wide)",
   "language": "python",
   "metadata": {
    "cocalc": {
     "description": "Python 3 programming language",
     "priority": 100,
     "url": "https://www.python.org/"
    }
   },
   "name": "python3"
  },
  "language_info": {
   "codemirror_mode": {
    "name": "ipython",
    "version": 3
   },
   "file_extension": ".py",
   "mimetype": "text/x-python",
   "name": "python",
   "nbconvert_exporter": "python",
   "pygments_lexer": "ipython3",
   "version": "3.6.8"
  }
 },
 "nbformat": 4,
 "nbformat_minor": 0
}