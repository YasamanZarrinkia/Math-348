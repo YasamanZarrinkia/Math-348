{
 "cells": [
  {
   "cell_type": "markdown",
   "metadata": {
    "collapsed": false
   },
   "source": [
    "<h1>Assignment 1</h1>\n",
    "\n",
    "\n",
    "Assignment 1 is all programming.  (Future assignments will have a theoretical component also.) Complete the tasks as specified throughout this Jupyter notebook file. Make your code as clear as possible. When you're done, select \"Restart and run all\" in the Kernel menu, and make sure your code produces the output you expect. At the due date, I will \"collect\" your current version of this file; you don't have to do anything.\n",
    "\n",
    "Make sure the kernel you are running is \"Python 3 (system-wide)\". If you need any Python 3 syntax that you don't know, Google usually suffices. Be aware that Python 2 syntax is different in some ways. To run the code in a particular section, press <tt>shift+return</tt> while that section is selected.\n",
    "\n",
    "The marking of programming assignments will be largely automated, and there is no partial credit for incorrect output. (There generally is not time for me or the marker to read the code you submit, but commenting your code is still a good habit.) If you are asked to write a function that performs a certain calculation, my marking script will run that function using various inputs to see whether it gives the right outputs. When possible I will test different sorts of inputs, so that if your code works only in certain cases you will at least get some credit.\n",
    "\n",
    "It is a good idea to test your own code's correctness, often by writing other test code. You are encouraged to check your code's output with that of other students. An acceptable level of collaboration would be sitting next to each other and each working on your own code. In such cases, it is fine to look at and discuss each other's code, but do not work together on a single piece of code and then submit the same assignment. Plagiarism detection is automated, based on the content and (if incorrect) the output of your code. Of course in some cases it is expected that people will write similar or even identical code independently; this is fine.\n"
   ]
  },
  {
   "cell_type": "markdown",
   "metadata": {
    "collapsed": false
   },
   "source": [
    "<h2>1. Evaluating a polynomial</h2>\n",
    "\n",
    "The set of univariate polynomials with degree $\\le n$ is a vector space of dimension $n+1$. We need $n+1$ numbers to represent a particular polynomial in this set. One way to represent a polynomial on a computer is to consider it in the monomial basis,\n",
    "$$c_0 + c_1x + c_2x^2 + \\cdots + c_nx^n,$$\n",
    "and store a vector of the coefficients $c_0,\\ldots,c_n$. It turns out that using the monomial basis is a pretty bad idea, but it will work for low-degree polynomials. Let's store the $c_i$ in a NumPy array. You don't need to know much about NumPy for this, but <a href=\"https://docs.scipy.org/doc/numpy/user/quickstart.html\">here is a tutorial</a>. First we import the NumPy module and call it <tt>np</tt> for short. (To make this happen, select the following section and press <tt>shift+return</tt>.)"
   ]
  },
  {
   "cell_type": "code",
   "execution_count": 1,
   "metadata": {
    "collapsed": false
   },
   "outputs": [
   ],
   "source": [
    "import numpy as np"
   ]
  },
  {
   "cell_type": "markdown",
   "metadata": {
    "collapsed": false
   },
   "source": [
    "For instance, consider the polynomial $p(x)=2+3x-7x^2+x^5$. Let's define the numpy array <tt>pc</tt> to store its coefficients."
   ]
  },
  {
   "cell_type": "code",
   "execution_count": 2,
   "metadata": {
    "collapsed": false
   },
   "outputs": [
   ],
   "source": [
    "pc = np.array([2,3,-7,0,0,1])"
   ]
  },
  {
   "cell_type": "markdown",
   "metadata": {
    "collapsed": false
   },
   "source": [
    "Indices in a NumPy array can be specified in various ways. This syntax is very useful, and you should learn it. Here are some examples:"
   ]
  },
  {
   "cell_type": "code",
   "execution_count": 3,
   "metadata": {
    "collapsed": false
   },
   "outputs": [
    {
     "name": "stdout",
     "output_type": "stream",
     "text": [
      "[ 2  3 -7  0  0  1]\n",
      "2\n",
      "1\n",
      "[2 3]\n",
      "[ 3 -7  0  0  1]\n",
      "[ 3 -7  0  0]\n",
      "[ 2 -7  0]\n",
      "[1 0 3]\n"
     ]
    }
   ],
   "source": [
    "print( pc )\n",
    "print( pc[0] )\n",
    "print( pc[-1] )\n",
    "print( pc[0:2] )\n",
    "print( pc[1:] )\n",
    "print( pc[1:-1] )\n",
    "print( pc[0::2] )\n",
    "print( pc[:0:-2] )"
   ]
  },
  {
   "cell_type": "markdown",
   "metadata": {
    "collapsed": false
   },
   "source": [
    "<h4>a.</h4>\n",
    "Complete the following function that will evaluate an arbitray polynomial (specified by its coefficient array) at an arbitrary point $x$. Recall that exponentiation in Python is done with <tt>**</tt>."
   ]
  },
  {
   "cell_type": "code",
   "execution_count": 4,
   "metadata": {
    "collapsed": false
   },
   "outputs": [
   ],
   "source": [
    "def poly_eval_monom(x,c):\n",
    "#     x is the point at which you want to evaluate the polynomial\n",
    "#     c is a numpy array of coefficients, [c0,c1,...,cn]\n",
    "\n",
    "    out = c[0]\n",
    "    for i in range(1,len(c)):       \n",
    "        out = out + c[i]*(x**i)\n",
    "        \n",
    "    return out"
   ]
  },
  {
   "cell_type": "markdown",
   "metadata": {
    "collapsed": false
   },
   "source": [
    "The correctness of the above function will be tesed by a marking script, so it's a good idea to test it yourself in various cases. For instance, if you wanted to evaluate $p(2)$ for the example polynmial given above, you could run this:"
   ]
  },
  {
   "cell_type": "code",
   "execution_count": 5,
   "metadata": {
    "collapsed": false
   },
   "outputs": [
    {
     "data": {
      "text/plain": [
       "12"
      ]
     },
     "execution_count": 5,
     "metadata": {
     },
     "output_type": "execute_result"
    }
   ],
   "source": [
    "poly_eval_monom(2,pc)"
   ]
  },
  {
   "cell_type": "markdown",
   "metadata": {
    "collapsed": true
   },
   "source": [
    "<h4>b.</h4>\n",
    "Let $f(x)=\\cos(\\pi x/2)$. To plot this function, let's make an array of $x$ values and an array of corresponding $f$ values. We will plot these points with straight lines connecting them, so we want a lot of points. Let's use 200 point on the interval $[-5,5]$."
   ]
  },
  {
   "cell_type": "code",
   "execution_count": 6,
   "metadata": {
    "collapsed": false
   },
   "outputs": [
   ],
   "source": [
    "x_f_plot = np.linspace(-5,5,200)\n",
    "y_f_plot = np.cos(np.pi/2*x_f_plot);"
   ]
  },
  {
   "cell_type": "markdown",
   "metadata": {
    "collapsed": false
   },
   "source": [
    "For plotting, we will use the <tt>pyplot</tt> part of the <tt>Matplotlib</tt> module. Like so:"
   ]
  },
  {
   "cell_type": "code",
   "execution_count": 7,
   "metadata": {
    "collapsed": false
   },
   "outputs": [
   ],
   "source": [
    "import matplotlib.pyplot as plt\n",
    "plt.plot(x_f_plot,y_f_plot);"
   ]
  },
  {
   "cell_type": "markdown",
   "metadata": {
    "collapsed": false
   },
   "source": [
    "\n",
    "Let $p_2(x)$ be the polynomial that interpolates $\\cos (\\pi x/2)$ at $x_0=-1$, $x_1=0$, and $x_2=1$. By hand, find $p_2$ in the monomial basis. Complete the following line to define the array <tt>[c0,c1,c2]</tt>."
   ]
  },
  {
   "cell_type": "code",
   "execution_count": 8,
   "metadata": {
    "collapsed": false
   },
   "outputs": [
   ],
   "source": [
    "p2_cos = np.array([1,0,-1])"
   ]
  },
  {
   "cell_type": "markdown",
   "metadata": {
    "collapsed": false
   },
   "source": [
    "Define arrays of points that you can use to plot $p_2(x)$. Use your <tt>poly_eval_monom</tt> function."
   ]
  },
  {
   "cell_type": "code",
   "execution_count": 9,
   "metadata": {
    "collapsed": false
   },
   "outputs": [
   ],
   "source": [
    "x_p_plot = np.linspace(-2,2,200)\n",
    "y_p_plot = poly_eval_monom(x_p_plot,p2_cos);\n",
    "# write code to define the y_p_plot array, containing p2(x) values corresponding to x_p_plot"
   ]
  },
  {
   "cell_type": "markdown",
   "metadata": {
    "collapsed": false
   },
   "source": [
    "Run the following code to produce the plot. Here the <tt>scatter</tt> command is used to plot additional symbols at the interpolation points."
   ]
  },
  {
   "cell_type": "code",
   "execution_count": 10,
   "metadata": {
    "collapsed": false
   },
   "outputs": [
    {
     "data": {
      "image/png": "[encoded data removed]",
      "text/plain": [
       "<matplotlib.figure.Figure at 0x1c45868e198>"
      ]
     },
     "execution_count": 10,
     "metadata": {
     },
     "output_type": "execute_result"
    }
   ],
   "source": [
    "plt.plot(x_f_plot,y_f_plot)\n",
    "plt.plot(x_p_plot,y_p_plot)\n",
    "\n",
    "xi = np.array([-1,0,1])\n",
    "yi = np.cos(np.pi/2*xi)\n",
    "plt.scatter(xi,yi);\n",
    "\n",
    "plt.axis([-5,5,-2,1.1]); # this sets the axes"
   ]
  },
  {
   "cell_type": "markdown",
   "metadata": {
    "collapsed": false
   },
   "source": [
    "<h2>2. Lagrange interpolation</h2>\n",
    "\n",
    "<h4>a.</h4>\n",
    "\n",
    "Write the following function so that it returns $P(x)$ at a specified value of $x$, where $P(x)$ is the polynomial that interpolates the points $(x_i,y_i)$ given by the NumPy arrays <tt>xi</tt> and <tt>yi</tt>. Do this by implementing the Lagrange construction of $P(x)$.\n",
    "\n",
    "Write the function so that it can handle an input that is a NumPy array of $x$ values, in which case it will output the corresponging array of $P(x)$ values."
   ]
  },
  {
   "cell_type": "code",
   "execution_count": 11,
   "metadata": {
    "collapsed": false
   },
   "outputs": [
   ],
   "source": [
    "def lagrange_interp(x,xi,yi):\n",
    "    # x is a number or a numpy array of values\n",
    "    # xi is a numpy array of interpolation points, [x0,x1,...,xn]\n",
    "    # yi is a numpy array of y values, [y0,y1,...,yn], at the interpolation points\n",
    "    n = (len(xi))\n",
    "    def L_i(x,x_m,i):\n",
    "        rv = 1.0\n",
    "        for j in range (n):\n",
    "            if i != j:\n",
    "                rv *= ( x-x_m[j])/( x_m[i]-x_m[j])\n",
    "        return rv \n",
    "    \n",
    "    lagrpoly = np.array([ L_i (x , xi , i ) for i in range ( n )])\n",
    "    ans = np.dot( yi , lagrpoly )\n",
    "    return ans\n",
    "        \n",
    "\n",
    "    # Your code here"
   ]
  },
  {
   "cell_type": "markdown",
   "metadata": {
    "collapsed": false
   },
   "source": [
    "As a test of your <tt>lagrange_interp</tt> function, the following code should produce the same plot from the end of part 1b, comparing $\\cos (\\pi x/2)$ to its interpolating polynomial."
   ]
  },
  {
   "cell_type": "code",
   "execution_count": 12,
   "metadata": {
    "collapsed": false
   },
   "outputs": [
    {
     "data": {
      "image/png": "[encoded data removed]",
      "text/plain": [
       "<matplotlib.figure.Figure at 0x1c458850828>"
      ]
     },
     "execution_count": 12,
     "metadata": {
     },
     "output_type": "execute_result"
    }
   ],
   "source": [
    "import numpy as np\n",
    "import matplotlib.pyplot as plt\n",
    "\n",
    "plt.plot(x_f_plot,y_f_plot)\n",
    "\n",
    "xi = np.array([-1,0,1])\n",
    "yi = np.cos(np.pi/2*xi)\n",
    "plt.scatter(xi,yi)\n",
    "\n",
    "x_lag_plot = np.linspace(-2,2,200)\n",
    "y_lag_plot = np.zeros(np.size(x_lag_plot))\n",
    "y_lag_plot = lagrange_interp(x_lag_plot,xi,yi)\n",
    "plt.plot(x_lag_plot,y_lag_plot)\n",
    "\n",
    "plt.axis([-5,5,-2,1.1]);"
   ]
  },
  {
   "cell_type": "markdown",
   "metadata": {
    "collapsed": false
   },
   "source": [
    "<h4>b.</h4>\n",
    "\n",
    "\n",
    "Let $f(x) = e^{-x^2}$. Let $x_0,\\ldots,x_n$ be uniformly spaced on $[-2,2]$ with $x_0=-2$ and $x_n=2$. Plot $f(x)$ and the interpolating polynomial $P(x)$ over $x\\in[-2.5,2.5]$ for $n=4$, 8, and 16. Make a separate plot for each $n$ value. Use your <tt>lagrange_interp</tt> function to compute values of $P(x)$ for the plots. Mark the interpolation points using <tt>scatter</tt> like in the preceding examples. Set the plot axes to $[-2.5,2.5]\\times[-.2,1.1]$"
   ]
  },
  {
   "cell_type": "code",
   "execution_count": 13,
   "metadata": {
    "collapsed": false
   },
   "outputs": [
    {
     "data": {
      "image/png": "[encoded data removed]",
      "text/plain": [
       "<matplotlib.figure.Figure at 0x1c458923be0>"
      ]
     },
     "execution_count": 13,
     "metadata": {
     },
     "output_type": "execute_result"
    }
   ],
   "source": [
    "import numpy as np\n",
    "import matplotlib.pyplot as plt\n",
    "\n",
    "x_f_plot = np.linspace(-2,2,200)\n",
    "y_f_plot = np.exp(-1*(x_f_plot**2))\n",
    "\n",
    "# For n=4\n",
    "plt.subplot(311)\n",
    "plt.plot(x_f_plot,y_f_plot)\n",
    "\n",
    "xi = np.linspace(-2.5,2.5,4)\n",
    "yi = np.exp(-1*(xi**2))\n",
    "plt.scatter(xi,yi)\n",
    "\n",
    "x_lag_plot = np.linspace(-2.5,2.5,200)\n",
    "y_lag_plot = np.zeros(np.size(x_lag_plot))\n",
    "y_lag_plot = lagrange_interp(x_lag_plot,xi,yi)\n",
    "plt.plot(x_lag_plot,y_lag_plot)\n",
    "plt.axis([-2.5,2.5,-2,1.1]);\n",
    "\n",
    "# For N=8\n",
    "plt.subplot(312)\n",
    "plt.plot(x_f_plot,y_f_plot)\n",
    "\n",
    "xi = np.linspace(-2.5,2.5,8)\n",
    "yi = np.exp(-1*(xi**2))\n",
    "plt.scatter(xi,yi)\n",
    "\n",
    "x_lag_plot = np.linspace(-2.5,2.5,200)\n",
    "y_lag_plot = np.zeros(np.size(x_lag_plot))\n",
    "y_lag_plot = lagrange_interp(x_lag_plot,xi,yi)\n",
    "plt.plot(x_lag_plot,y_lag_plot)\n",
    "plt.axis([-2.5,2.5,-2,1.1]);\n",
    "\n",
    "\n",
    "# For N=16\n",
    "plt.subplot(313)\n",
    "plt.plot(x_f_plot,y_f_plot)\n",
    "\n",
    "xi = np.linspace(-2.5,2.5,16)\n",
    "yi = np.exp(-1*(xi**2))\n",
    "plt.scatter(xi,yi)\n",
    "\n",
    "x_lag_plot = np.linspace(-2.5,2.5,200)\n",
    "y_lag_plot = np.zeros(np.size(x_lag_plot))\n",
    "y_lag_plot = lagrange_interp(x_lag_plot,xi,yi)\n",
    "plt.plot(x_lag_plot,y_lag_plot)\n",
    "\n",
    "\n",
    "plt.axis([-2.5,2.5,-2,1.1]);\n",
    "# Your code here"
   ]
  },
  {
   "cell_type": "markdown",
   "metadata": {
    "collapsed": false
   },
   "source": [
    "<h4>c.</h4>\n",
    "\n",
    "Repeat part 2b for $f(x)=\\dfrac{1}{1+6x^2}$, except this time only plot for $x\\in[-2,2]$ and let the plot axes be automatic. The interpolating polynomial might not approximate $f$ as well as it did in part 2b."
   ]
  },
  {
   "cell_type": "code",
   "execution_count": 14,
   "metadata": {
    "collapsed": false,
    "scrolled": true
   },
   "outputs": [
    {
     "data": {
      "image/png": "[encoded data removed]",
      "text/plain": [
       "<matplotlib.figure.Figure at 0x1c4589231d0>"
      ]
     },
     "execution_count": 14,
     "metadata": {
     },
     "output_type": "execute_result"
    }
   ],
   "source": [
    "import numpy as np\n",
    "import matplotlib.pyplot as plt\n",
    "\n",
    "x_f_plot = np.linspace(-2,2,200)\n",
    "y_f_plot = (1/(1+ 6*(x_f_plot*x_f_plot)))\n",
    "\n",
    "# n = 4\n",
    "plt.subplot(311)\n",
    "plt.plot(x_f_plot,y_f_plot)\n",
    "\n",
    "xi = np.linspace(-2,2,4)\n",
    "yi = 1/(1+(6*xi*xi))\n",
    "plt.scatter(xi,yi)\n",
    "\n",
    "x_lag_plot = np.linspace(-2,2,200)\n",
    "y_lag_plot = np.zeros(np.size(x_lag_plot))\n",
    "y_lag_plot = lagrange_interp(x_lag_plot,xi,yi)\n",
    "plt.plot(x_lag_plot,y_lag_plot)\n",
    "\n",
    "# n = 8 \n",
    "plt.subplot(312)\n",
    "plt.plot(x_f_plot,y_f_plot)\n",
    "\n",
    "xi = np.linspace(-2,2,8)\n",
    "yi = (1/(1+6*xi**2))\n",
    "plt.scatter(xi,yi)\n",
    "\n",
    "x_lag_plot = np.linspace(-2,2,200)\n",
    "y_lag_plot = np.zeros(np.size(x_lag_plot))\n",
    "y_lag_plot = lagrange_interp(x_lag_plot,xi,yi)\n",
    "plt.plot(x_lag_plot,y_lag_plot)\n",
    "\n",
    "# n = 16\n",
    "plt.subplot(313)\n",
    "plt.plot(x_f_plot,y_f_plot)\n",
    "\n",
    "xi = np.linspace(-2,2,16)\n",
    "yi = (1/(1+6*xi**2))\n",
    "plt.scatter(xi,yi)\n",
    "\n",
    "x_lag_plot = np.linspace(-2,2,200)\n",
    "y_lag_plot = np.zeros(np.size(x_lag_plot))\n",
    "y_lag_plot = lagrange_interp(x_lag_plot,xi,yi)\n",
    "plt.plot(x_lag_plot,y_lag_plot);\n",
    "\n",
    "\n",
    "\n",
    "# Your code here"
   ]
  }
 ],
 "metadata": {
  "kernelspec": {
   "display_name": "Python 3 (system-wide)",
   "language": "python",
   "metadata": {
    "cocalc": {
     "description": "Python 3 programming language",
     "priority": 100,
     "url": "https://www.python.org/"
    }
   },
   "name": "python3"
  },
  "language_info": {
   "codemirror_mode": {
    "name": "ipython",
    "version": 3
   },
   "file_extension": ".py",
   "mimetype": "text/x-python",
   "name": "python",
   "nbconvert_exporter": "python",
   "pygments_lexer": "ipython3",
   "version": "3.6.8"
  }
 },
 "nbformat": 4,
 "nbformat_minor": 0
}
