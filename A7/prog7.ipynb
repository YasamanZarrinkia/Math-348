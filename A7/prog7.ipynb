{
 "cells": [
  {
   "cell_type": "markdown",
   "metadata": {
    "collapsed": false
   },
   "source": [
    "<h1>Assignment 7: programming</h1>\n",
    "\n",
    "This is the programming part of Assignment 7. When you're done, select \"Restart and run all\" in the Kernel menu, and make sure your code behaves as you expect. There is a theoretical part of the assignment also, found in the Handouts folder on CoCalc, which must be handed in at the <i>start</i> of class on Friday, November 29.\n",
    "\n",
    "First, run the following code to import packages that we'll need."
   ]
  },
  {
   "cell_type": "code",
   "execution_count": 1,
   "metadata": {
    "collapsed": false
   },
   "outputs": [
   ],
   "source": [
    "import numpy as np\n",
    "np.set_printoptions(precision=10)\n",
    "\n",
    "import matplotlib.pyplot as plt\n",
    "plt.rcParams.update({'font.size': 22})"
   ]
  },
  {
   "cell_type": "markdown",
   "metadata": {
    "collapsed": false
   },
   "source": [
    "<h2>QR factorization</h2>\n",
    "\n",
    "<h4>a.</h4>\n",
    "Complete the following function that returns the QR factorization of a matrix $A$. You can assume the columns of $A$ are linearly independent. The matrices $A$ and $Q$ should be the same size."
   ]
  },
  {
   "cell_type": "code",
   "execution_count": 2,
   "metadata": {
    "collapsed": false
   },
   "outputs": [
   ],
   "source": [
    "def QR(A):\n",
    "    Q, R = np.linalg.qr(A)\n",
    "    m , n = np.shape(A)\n",
    "    Q = np.zeros((m,n))\n",
    "    R = np.zeros((n,n))\n",
    "    for j in range(n):\n",
    "        y = A[:,j]\n",
    "        for i in range(j):\n",
    "            R[i,j] = np.dot(np.transpose(Q[:,i]),A[:,j])\n",
    "            y = y - R[i,j]*Q[:,i]\n",
    "        R[j,j] = np.linalg.norm(y)\n",
    "        Q[:,j] = y/R[j,j]\n",
    "    return Q, R"
   ]
  },
  {
   "cell_type": "markdown",
   "metadata": {
    "collapsed": false
   },
   "source": [
    "The following code should output the QR factorization of the matrix from part 1 of the theory assignment."
   ]
  },
  {
   "cell_type": "code",
   "execution_count": 3,
   "metadata": {
    "collapsed": false
   },
   "outputs": [
    {
     "name": "stdout",
     "output_type": "stream",
     "text": [
      "[[ 0.6666666667  0.4714045208]\n",
      " [ 0.           -0.2357022604]\n",
      " [ 0.6666666667 -0.7071067812]\n",
      " [ 0.3333333333  0.4714045208]]\n",
      "[[3.           3.          ]\n",
      " [0.           4.2426406871]]\n"
     ]
    },
    {
     "data": {
      "text/plain": [
       "(None, None)"
      ]
     },
     "execution_count": 3,
     "metadata": {
     },
     "output_type": "execute_result"
    }
   ],
   "source": [
    "A = np.array([[2., 2],[1,1],[2,-1],[0,2]])\n",
    "A = np.array([[2, 4],[0,-1],[2,-1],[1,3]])\n",
    "Q, R = QR(A)\n",
    "print(Q), print(R)"
   ]
  },
  {
   "cell_type": "markdown",
   "metadata": {
    "collapsed": false
   },
   "source": [
    "<h4>b.</h4>\n",
    "\n",
    "Here's a version of the back substitution function from assignment 6. The input is a square upper triangular matrix $U$ and a vector $b$. You can use this if you want, or delete it and use your own code."
   ]
  },
  {
   "cell_type": "code",
   "execution_count": 4,
   "metadata": {
    "collapsed": false
   },
   "outputs": [
   ],
   "source": [
    "def back_sub(U,b):\n",
    "    n = b.shape[0]\n",
    "    x = np.zeros(n)\n",
    "    x[-1] = b[-1] / U[-1,-1]\n",
    "    for i in range(n-2,-1,-1):\n",
    "        x[i] = 1/U[i,i] * ( b[i] - np.sum( U[i,i+1:]*x[i+1:]) )\n",
    "    return x"
   ]
  },
  {
   "cell_type": "markdown",
   "metadata": {
    "collapsed": false
   },
   "source": [
    "Complete the following function that returns the the least squares solution $\\bar x$ to $Ax=b$, given the QR factorization of $A$. You can use my <tt>back_sub</tt> routine if you want."
   ]
  },
  {
   "cell_type": "code",
   "execution_count": 5,
   "metadata": {
    "collapsed": false
   },
   "outputs": [
   ],
   "source": [
    "def QR_ls(Q,R,b):\n",
    "    d = np.dot(np.transpose(Q),b)\n",
    "    n = np.size(Q)\n",
    "    R_hat = R[0:n,0:n]\n",
    "    d_hat = d[0:n]\n",
    "    return back_sub(R_hat, d_hat)"
   ]
  },
  {
   "cell_type": "markdown",
   "metadata": {
    "collapsed": false
   },
   "source": [
    "<h4>c.</h4>\n",
    "\n",
    "Let $f(x)= e^x$. Let the $x_i$ be uniformly spaced from $x_1=-1$ to $x_6=1$. Suppose we want to approximate $f(x)$ by a parabola $p(x)=c_0+c_1x+c_2x^2$. This $p(x)$ does not have high enough degree to interpolate $f(x)$ at the $x_i$. Instead, let's minimize the least squares error of the vector in $\\mathbb R^6$ whose entries are $f(x_i)-p(x_i)$. To do this, formulate a matrix equation for the vector $\\mathbf{c}=\\begin{bmatrix}c_0&c_1&c_2\\end{bmatrix}^T$ like on assignment 6. In the present case this system is inconsistent. Find its least squares solution, $\\bar{\\mathbf{c}}$, using the functions from parts 1a and 1b."
   ]
  },
  {
   "cell_type": "code",
   "execution_count": 6,
   "metadata": {
    "collapsed": false
   },
   "outputs": [
    {
     "name": "stdout",
     "output_type": "stream",
     "text": [
      "[0.9943634807 1.1410432453 0.5468015476]\n"
     ]
    }
   ],
   "source": [
    "def f(x):\n",
    "    return np.exp(x)\n",
    "x = np.linspace(-1,1,6)\n",
    "A = np.zeros((6,3))\n",
    "b = np.zeros(6)\n",
    "for i in range(6):\n",
    "    b[i] = f(x[i])\n",
    "    A[i] = np.array([1,x[i],x[i]*x[i]])\n",
    "Q , R = QR(A)\n",
    "c = QR_ls(Q,R,b)\n",
    "print(c)"
   ]
  },
  {
   "cell_type": "markdown",
   "metadata": {
    "collapsed": false
   },
   "source": [
    "Record your answer by assigning the following variables."
   ]
  },
  {
   "cell_type": "code",
   "execution_count": 7,
   "metadata": {
    "collapsed": false
   },
   "outputs": [
   ],
   "source": [
    "c0 = c[0]\n",
    "c1 = c[1]\n",
    "c2 = c[2]"
   ]
  },
  {
   "cell_type": "markdown",
   "metadata": {
    "collapsed": false
   },
   "source": [
    "Run the following code to compare your $f(x)$ and $p(x)$ functions. The $p(x)$ function should provide a close approximation to $f(x)$ despite not agreeing exactly at the interpolation points. "
   ]
  },
  {
   "cell_type": "code",
   "execution_count": 8,
   "metadata": {
    "collapsed": false
   },
   "outputs": [
    {
     "data": {
      "image/png": "[encoded data removed]",
      "text/plain": [
       "<Figure size 432x288 with 1 Axes>"
      ]
     },
     "execution_count": 8,
     "metadata": {
      "image/png": {
       "height": 268,
       "width": 371
      },
      "needs_background": "light"
     },
     "output_type": "execute_result"
    }
   ],
   "source": [
    "x = np.linspace(-1.5,1.5,100)\n",
    "p = np.zeros(len(x))\n",
    "for i in range(0,len(x)):\n",
    "    p[i] = np.dot( np.array([c0,c1,c2]) , np.power(x[i],np.array([0,1,2])) )\n",
    "\n",
    "plt.figure()\n",
    "plt.plot(x,f(x),label='f(x)')\n",
    "plt.plot(x,p,label='p(x)')\n",
    "xi = np.linspace(-1,1,6)\n",
    "plt.scatter(xi,f(xi))\n",
    "plt.axis([-1.5,1.5,0,3])\n",
    "plt.legend();"
   ]
  },
  {
   "cell_type": "markdown",
   "metadata": {
    "collapsed": false
   },
   "source": [
    "<h2>2. GMRES</h2>\n",
    "\n",
    "<h4> a. </h4>\n",
    "Complete the following function to solve $Ax=b$ using the GMRES algorithm. At every step, compute the approximate solution $x_k$ and the relative backward error $e_k=\\Vert b-Ax_k\\Vert/\\Vert b\\Vert$, and store the $e_k$ values in an array. On the step when $e_k\\le tol$, return the approximate solution $x_k$, as well as the array of $e_k$ values. If you were unable to get your QR factorization working, you can use NumPy's <tt>linalg.lstsq</tt> function to solve the least squares problem that is part of the GMRES algorithm. Test your function on a small system where you know the answer."
   ]
  },
  {
   "cell_type": "code",
   "execution_count": 9,
   "metadata": {
    "collapsed": false
   },
   "outputs": [
   ],
   "source": [
    "def gmres(A,b,tol,kmax):\n",
    "    # OUTPUT:\n",
    "    # x is a numpy array of length n\n",
    "    # err is a numpy array of length no larger than kmax\n",
    "\n",
    "    n = A.shape[1]\n",
    "    x0 = np.zeros(n) # use the zero vector for the initial guess x0\n",
    "    x = []\n",
    "    err = []\n",
    "    r = b - A@x0\n",
    "    q = [0]*(kmax)\n",
    "    bNorm = np.linalg.norm(b)\n",
    "    rNorm = np.linalg.norm(r)\n",
    "    q[0] = r/rNorm\n",
    "    h = np.zeros((kmax+1 , kmax))\n",
    "    x.append(r)\n",
    "    err.append(np.linalg.norm(b - np.matmul(A,np.asarray(x[-1]))) / bNorm)\n",
    "    for k in range(kmax):\n",
    "        if (err[-1] < tol):\n",
    "            break\n",
    "        y = np.asarray(np.dot(A, q[k])).reshape(-1)\n",
    "        for j in range(k+1):\n",
    "            h[j,k] = np.dot(q[j], y)\n",
    "            y = y - h[j, k] * q[j]\n",
    "        h[k + 1, k] = np.linalg.norm(y)\n",
    "        if (h[k + 1, k] != 0 and k != kmax - 1):\n",
    "            q[k + 1] = y / h[k + 1, k]\n",
    "\n",
    "        d = np.zeros(kmax + 1)\n",
    "        d[0] = rNorm\n",
    "        result = np.linalg.lstsq(h, d)[0]\n",
    "        x.append(np.dot(np.asarray(q).transpose(), result) + x0)\n",
    "        err.append(np.linalg.norm(b - np.matmul(A,np.asarray(x[-1]))) / bNorm)\n",
    "    # your code here\n",
    "\n",
    "    return np.asarray(x) , np.asarray(err)"
   ]
  },
  {
   "cell_type": "markdown",
   "metadata": {
    "collapsed": false
   },
   "source": [
    "The following code defines a sparse (banded) matrix $A\\in\\mathbb{R}^{300\\times300}$ and a vector $b\\in\\mathbb{R}^{300}$ with all 1 entries. The matrix $A$ is not stored using a sparse data structure; instead all the zero entries are stored. Exploiting sparsity would decrease computational cost significantly."
   ]
  },
  {
   "cell_type": "code",
   "execution_count": 10,
   "metadata": {
    "collapsed": false
   },
   "outputs": [
   ],
   "source": [
    "n = 300\n",
    "ints = np.linspace(1,n,n)\n",
    "A = np.diag(np.power(-1,ints)*ints) + np.diag( np.cos(np.linspace(1,n,n-5)),5) + np.diag( np.cos(np.linspace(1,n,n-5)),-5) + np.diag( np.cos(np.linspace(1,n,n-10)),10) + np.diag( np.cos(np.linspace(1,n,n-10)),-10)\n",
    "b = np.matmul(A,np.ones(n))"
   ]
  },
  {
   "cell_type": "markdown",
   "metadata": {
    "collapsed": false
   },
   "source": [
    "Use your <tt>gmres</tt> function to approximately solve $Ax=b$. Take <tt>kmax=100</tt> and <tt>tol=1e-15</tt>. Plot a <tt>scatter</tt> of the error vector $e_k$ (log scale) versus the step number $k$ (linear scale). For the plot axes, <tt>plt.axis([0,100,1e-3,10])</tt> should be appropriate."
   ]
  },
  {
   "cell_type": "code",
   "execution_count": 11,
   "metadata": {
    "collapsed": false
   },
   "outputs": [
    {
     "name": "stderr",
     "output_type": "stream",
     "text": [
      "/ext/anaconda5/lib/python3.6/site-packages/ipykernel/__main__.py:31: FutureWarning: `rcond` parameter will change to the default of machine precision times ``max(M, N)`` where M and N are the input matrix dimensions.\n",
      "To use the future default and silence this warning we advise to pass `rcond=None`, to keep using the old, explicitly pass `rcond=-1`.\n"
     ]
    },
    {
     "data": {
      "image/png": "[encoded data removed]",
      "text/plain": [
       "<Figure size 432x288 with 1 Axes>"
      ]
     },
     "execution_count": 11,
     "metadata": {
      "image/png": {
       "height": 269,
       "width": 427
      },
      "needs_background": "light"
     },
     "output_type": "execute_result"
    }
   ],
   "source": [
    "x , err =  gmres(A,b,1e-15,100)\n",
    "plt.figure()\n",
    "k = np.arange(np.size(err))\n",
    "plt.scatter(k,err,s = 10)\n",
    "plt.axis([0,100,1e-3,10])\n",
    "#plt.xscale('log')\n",
    "plt.yscale('log')\n",
    "\n"
   ]
  },
  {
   "cell_type": "markdown",
   "metadata": {
    "collapsed": false
   },
   "source": [
    "<h4> b. Preconditioned GMRES </h4>\n",
    "\n",
    "Complete the following function that is like your <tt>gmres</tt> function, except that it uses the Jacobi preconditioner."
   ]
  },
  {
   "cell_type": "code",
   "execution_count": 12,
   "metadata": {
    "collapsed": false
   },
   "outputs": [
   ],
   "source": [
    "def gmres_jac(A,b,tol,kmax):\n",
    "    \n",
    "    n = A.shape[1]\n",
    "    x0 = np.zeros(n)\n",
    "    x = []\n",
    "    err = []\n",
    "    q = [0]*(kmax)\n",
    "    Minv = 1 / np.diag(A) # a vector\n",
    "    r = Minv*(b - A@x0)\n",
    "    bNorm = np.linalg.norm(Minv@b)\n",
    "    rNorm = np.linalg.norm(r)\n",
    "    q[0] = r/rNorm\n",
    "    h = np.zeros((kmax+1 , kmax))\n",
    "    x.append(r)\n",
    "    err.append(np.linalg.norm(b - np.matmul(A,np.asarray(x[-1]))) / bNorm)\n",
    "    for k in range(kmax):\n",
    "        if (err[-1] < tol):\n",
    "            break\n",
    "        w = np.asarray(Minv*A@(np.asarray(q[k]))).reshape(-1)\n",
    "        for j in range(k+1):\n",
    "            h[j,k] = np.dot(np.transpose(w), np.asarray(q[j]))\n",
    "            w = w - h[j, k] * q[j]\n",
    "        h[k + 1, k] = np.linalg.norm(w)\n",
    "        if (h[k + 1, k] != 0 and k != kmax - 1):\n",
    "            q[k + 1] = w / h[k + 1, k]\n",
    "\n",
    "        d = np.zeros(kmax + 1)\n",
    "        d[0] = rNorm\n",
    "        result = np.linalg.lstsq(h, d)[0]\n",
    "        x.append(np.dot((np.asarray(q).transpose()), result) + x0)\n",
    "        err.append(np.linalg.norm(Minv*b - np.matmul(Minv*A,np.asarray(x[-1]))) / bNorm)\n",
    "    x = np.asarray(x)\n",
    "    err = np.asarray(err)\n",
    "    return x , err"
   ]
  },
  {
   "cell_type": "markdown",
   "metadata": {
    "collapsed": false
   },
   "source": [
    "Make a plot that is analogous to the plot in part 2a, but this time showing the error at each step for preconditioned GMRES with the Jacobi preconditioner. Your axes will need to be different."
   ]
  },
  {
   "cell_type": "code",
   "execution_count": 13,
   "metadata": {
    "collapsed": false
   },
   "outputs": [
    {
     "name": "stderr",
     "output_type": "stream",
     "text": [
      "/ext/anaconda5/lib/python3.6/site-packages/ipykernel/__main__.py:29: FutureWarning: `rcond` parameter will change to the default of machine precision times ``max(M, N)`` where M and N are the input matrix dimensions.\n",
      "To use the future default and silence this warning we advise to pass `rcond=None`, to keep using the old, explicitly pass `rcond=-1`.\n"
     ]
    },
    {
     "data": {
      "image/png": "[encoded data removed]",
      "text/plain": [
       "<Figure size 432x288 with 1 Axes>"
      ]
     },
     "execution_count": 13,
     "metadata": {
      "image/png": {
       "height": 262,
       "width": 430
      },
      "needs_background": "light"
     },
     "output_type": "execute_result"
    }
   ],
   "source": [
    "n = 300\n",
    "ints = np.linspace(1,n,n)\n",
    "A = np.diag(np.power(-1,ints)*ints) + np.diag( np.cos(np.linspace(1,n,n-5)),5) + np.diag( np.cos(np.linspace(1,n,n-5)),-5) + np.diag( np.cos(np.linspace(1,n,n-10)),10) + np.diag( np.cos(np.linspace(1,n,n-10)),-10)\n",
    "b = np.matmul(A,np.ones(n))\n",
    "x , err =  gmres_jac(A,b,1e-15,100)\n",
    "plt.figure()\n",
    "k = np.arange(np.size(err))\n",
    "plt.scatter(k,err)\n",
    "plt.axis([0,20,1e-17,1e-1])\n",
    "#plt.xscale('log')\n",
    "plt.yscale('log')\n"
   ]
  },
  {
   "cell_type": "markdown",
   "metadata": {
    "collapsed": false
   },
   "source": [
    "### "
   ]
  }
 ],
 "metadata": {
  "kernelspec": {
   "display_name": "Python 3 (Anaconda 5)",
   "env": {
    "LD_LIBRARY_PATH": "/ext/anaconda5/lib",
    "PROJ_LIB": "/ext/anaconda-2019.03/share/proj",
    "PYTHONHOME": "/ext/anaconda5/lib/python3.5",
    "PYTHONPATH": "/ext/anaconda5/lib/python3.5:/ext/anaconda5/lib/python3.5/site-packages"
   },
   "language": "python",
   "metadata": {
    "cocalc": {
     "description": "Python/R distribution for data science",
     "priority": -1,
     "url": "https://www.anaconda.com/distribution/"
    }
   },
   "name": "anaconda5"
  },
  "language_info": {
   "codemirror_mode": {
    "name": "ipython",
    "version": 3
   },
   "file_extension": ".py",
   "mimetype": "text/x-python",
   "name": "python",
   "nbconvert_exporter": "python",
   "pygments_lexer": "ipython3",
   "version": "3.6.7"
  }
 },
 "nbformat": 4,
 "nbformat_minor": 0
}